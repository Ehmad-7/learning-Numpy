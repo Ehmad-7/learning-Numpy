{
 "cells": [
  {
   "cell_type": "markdown",
   "metadata": {},
   "source": [
    "## Numpy array basics "
   ]
  },
  {
   "cell_type": "code",
   "execution_count": 9,
   "metadata": {},
   "outputs": [],
   "source": [
    "import numpy as np\n",
    "import time"
   ]
  },
  {
   "cell_type": "markdown",
   "metadata": {},
   "source": [
    "## Creating array from list"
   ]
  },
  {
   "cell_type": "code",
   "execution_count": 10,
   "metadata": {},
   "outputs": [
    {
     "name": "stdout",
     "output_type": "stream",
     "text": [
      "1D_Array: [1 2 3 4 5]\n",
      "2D_Array: [[1 2 3]\n",
      " [4 5 6]]\n"
     ]
    }
   ],
   "source": [
    "arr_1d=np.array([1,2,3,4,5])\n",
    "print(\"1D_Array:\",arr_1d)\n",
    "\n",
    "arr_2d=np.array([[1,2,3],[4,5,6]])\n",
    "print(\"2D_Array:\",arr_2d)"
   ]
  },
  {
   "cell_type": "markdown",
   "metadata": {},
   "source": [
    "## List vs Numpy array"
   ]
  },
  {
   "cell_type": "code",
   "execution_count": 11,
   "metadata": {},
   "outputs": [
    {
     "name": "stdout",
     "output_type": "stream",
     "text": [
      "Python list multiplication:  [1, 2, 3, 4, 5, 1, 2, 3, 4, 5]\n",
      "Python numpy array multiplication:  [ 2  4  6  8 10]\n",
      "\n",
      " List operation time:  0.12676310539245605\n",
      "\n",
      " Numpy operation time:  0.02469944953918457\n"
     ]
    }
   ],
   "source": [
    "py_list=[1,2,3,4,5]\n",
    "print(\"Python list multiplication: \",py_list*2)\n",
    "\n",
    "np_array=np.array([1,2,3,4,5])\n",
    "print(\"Python numpy array multiplication: \",np_array*2)\n",
    "\n",
    "start=time.time()\n",
    "py_list=[1*2 for i in range(1000000)]\n",
    "print(\"\\n List operation time: \",time.time()-start)\n",
    "\n",
    "start=time.time()\n",
    "np_array=np.arange(1000000)*2\n",
    "print(\"\\n Numpy operation time: \",time.time()-start)"
   ]
  },
  {
   "cell_type": "markdown",
   "metadata": {},
   "source": [
    "## Creating array from scratch"
   ]
  },
  {
   "cell_type": "code",
   "execution_count": 18,
   "metadata": {},
   "outputs": [
    {
     "name": "stdout",
     "output_type": "stream",
     "text": [
      "Zeros Array:\n",
      " [[0. 0. 0. 0.]\n",
      " [0. 0. 0. 0.]\n",
      " [0. 0. 0. 0.]]\n",
      "Ones Array:\n",
      " [[1. 1. 1. 1.]\n",
      " [1. 1. 1. 1.]\n",
      " [1. 1. 1. 1.]]\n",
      "Full Array:\n",
      " [[7 7]\n",
      " [7 7]]\n",
      "Random Array:\n",
      " [[0.88468779 0.74546154 0.85700602]\n",
      " [0.93626913 0.60379895 0.37250065]]\n",
      "Sequence Array:\n",
      " [0 2 4 6 8]\n"
     ]
    }
   ],
   "source": [
    "zeros=np.zeros((3,4))\n",
    "print(\"Zeros Array:\\n\",zeros)\n",
    "\n",
    "ones=np.ones((3,4))\n",
    "print(\"Ones Array:\\n\",ones)\n",
    "\n",
    "full=np.full((2,2),7)\n",
    "print(\"Full Array:\\n\",full)\n",
    "\n",
    "random=np.random.random((2,3))\n",
    "print(\"Random Array:\\n\",random)\n",
    "\n",
    "sequence=np.arange(0,10,2)\n",
    "print(\"Sequence Array:\\n\",sequence)"
   ]
  },
  {
   "cell_type": "markdown",
   "metadata": {},
   "source": [
    "## Vector, Matrix and Tensor"
   ]
  },
  {
   "cell_type": "code",
   "execution_count": 24,
   "metadata": {},
   "outputs": [
    {
     "name": "stdout",
     "output_type": "stream",
     "text": [
      "Vector: [1 2 3]\n",
      "\n",
      "Matrix:\n",
      " [[1 2 3]\n",
      " [4 5 6]]\n",
      "\n",
      "Tensor:\n",
      " [[[1 2]\n",
      "  [3 4]]\n",
      "\n",
      " [[5 6]\n",
      "  [7 8]]]\n"
     ]
    }
   ],
   "source": [
    "vector=np.array([1,2,3])\n",
    "print(\"Vector:\",vector)\n",
    "\n",
    "matrix=np.array([[1,2,3]\n",
    "                 ,[4,5,6]\n",
    "])\n",
    "print(\"\\nMatrix:\\n\",matrix)\n",
    "\n",
    "tensor=np.array([\n",
    "                 [[1,2],[3,4]],\n",
    "                 [[5,6],[7,8]]\n",
    "                ])\n",
    "print(\"\\nTensor:\\n\",tensor)"
   ]
  },
  {
   "cell_type": "markdown",
   "metadata": {},
   "source": [
    "## Array Properties"
   ]
  },
  {
   "cell_type": "code",
   "execution_count": 26,
   "metadata": {},
   "outputs": [
    {
     "name": "stdout",
     "output_type": "stream",
     "text": [
      "Array shape: (2, 3)\n",
      "Array dimensions: 2\n",
      "Array size: 6\n",
      "Array data type: int64\n"
     ]
    }
   ],
   "source": [
    "arr=np.array([[1,2,3],\n",
    "             [4,5,6]])\n",
    "print(\"Array shape:\",arr.shape)\n",
    "print(\"Array dimensions:\",arr.ndim)\n",
    "print(\"Array size:\",arr.size)\n",
    "print(\"Array data type:\",arr.dtype)"
   ]
  },
  {
   "cell_type": "markdown",
   "metadata": {},
   "source": [
    "## Array Reshaping"
   ]
  },
  {
   "cell_type": "code",
   "execution_count": 32,
   "metadata": {},
   "outputs": [
    {
     "name": "stdout",
     "output_type": "stream",
     "text": [
      "Original Array: [ 0  1  2  3  4  5  6  7  8  9 10 11]\n",
      "\n",
      "Reshaped Array:\n",
      " [[ 0  1  2  3]\n",
      " [ 4  5  6  7]\n",
      " [ 8  9 10 11]]\n",
      "\n",
      " Flattened Array: [ 0  1  2  3  4  5  6  7  8  9 10 11]\n",
      "\n",
      " Raveled Array: [ 0  1  2  3  4  5  6  7  8  9 10 11]\n",
      "\n",
      " Teansposed Array:\n",
      " [[ 0  4  8]\n",
      " [ 1  5  9]\n",
      " [ 2  6 10]\n",
      " [ 3  7 11]]\n"
     ]
    }
   ],
   "source": [
    "arr=np.arange(12)\n",
    "print(\"Original Array:\", arr)\n",
    "\n",
    "reshaped=arr.reshape(3,4)\n",
    "print(\"\\nReshaped Array:\\n\", reshaped)\n",
    "\n",
    "flattened=reshaped.flatten()\n",
    "print(\"\\n Flattened Array:\",flattened)\n",
    "\n",
    "raveled=reshaped.ravel()\n",
    "print(\"\\n Raveled Array:\",raveled)\n",
    "\n",
    "# Transpose the array\n",
    "\n",
    "transposed=reshaped.T\n",
    "print(\"\\n Teansposed Array:\\n\",transposed)"
   ]
  }
 ],
 "metadata": {
  "kernelspec": {
   "display_name": "Python 3",
   "language": "python",
   "name": "python3"
  },
  "language_info": {
   "codemirror_mode": {
    "name": "ipython",
    "version": 3
   },
   "file_extension": ".py",
   "mimetype": "text/x-python",
   "name": "python",
   "nbconvert_exporter": "python",
   "pygments_lexer": "ipython3",
   "version": "3.12.8"
  }
 },
 "nbformat": 4,
 "nbformat_minor": 2
}
