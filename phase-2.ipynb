{
 "cells": [
  {
   "cell_type": "markdown",
   "metadata": {},
   "source": [
    "## Numpy Array Operations"
   ]
  },
  {
   "cell_type": "code",
   "execution_count": 1,
   "metadata": {},
   "outputs": [],
   "source": [
    "import numpy as np"
   ]
  },
  {
   "cell_type": "code",
   "execution_count": 18,
   "metadata": {},
   "outputs": [
    {
     "name": "stdout",
     "output_type": "stream",
     "text": [
      "Basic Slicing: [3 4 5 6 7]\n",
      "Slicing with step: [2 4 6 8]\n",
      "Negative Indexing: 6\n"
     ]
    }
   ],
   "source": [
    "arr=np.array([1,2,3,4,5,6,7,8,9,10])\n",
    "print(\"Basic Slicing:\",arr[2:7])\n",
    "print(\"Slicing with step:\",arr[1:8:2])\n",
    "print(\"Negative Indexing:\",arr[-5])"
   ]
  },
  {
   "cell_type": "markdown",
   "metadata": {},
   "source": [
    "## Indexing and Sorting"
   ]
  },
  {
   "cell_type": "code",
   "execution_count": 17,
   "metadata": {},
   "outputs": [
    {
     "name": "stdout",
     "output_type": "stream",
     "text": [
      "Specific Element: 1\n",
      "Entire Row: [1 5 6]\n",
      "Entire Column: [2 5 7]\n",
      "Sorted Array: [[1 2 3]\n",
      " [1 5 6]\n",
      " [7 8 9]]\n",
      "\n",
      "Sorted by column:\n",
      " [[1 2 1]\n",
      " [3 5 6]\n",
      " [9 7 8]]\n",
      "\n",
      "Original Array: [1 7 3 6 2 5 4]\n",
      "Sorted Array: [1 2 3 4 5 6 7]\n"
     ]
    }
   ],
   "source": [
    "arr_2d=np.array([\n",
    "  [3,2,1],\n",
    "  [1,5,6],\n",
    "  [9,7,8],\n",
    "])\n",
    "print(\"Specific Element:\",arr_2d[1,0])\n",
    "print(\"Entire Row:\",arr_2d[1])\n",
    "print(\"Entire Column:\",arr_2d[:,1])\n",
    "print(\"Sorted Array:\",np.sort(arr_2d))\n",
    "print(\"\\nSorted by column:\\n\",np.sort(arr_2d,axis=0))\n",
    "\n",
    "unsorted=np.array([1,7,3,6,2,5,4])\n",
    "print(\"\\nOriginal Array:\",unsorted)\n",
    "print(\"Sorted Array:\",np.sort(unsorted))  "
   ]
  },
  {
   "cell_type": "markdown",
   "metadata": {},
   "source": [
    "## Filtering Arrays"
   ]
  },
  {
   "cell_type": "code",
   "execution_count": 14,
   "metadata": {},
   "outputs": [
    {
     "name": "stdout",
     "output_type": "stream",
     "text": [
      "Even Numbers: [10 30 50]\n",
      "Numbers greater than 30: [45 50]\n"
     ]
    }
   ],
   "source": [
    "numbers=np.array([10,25,30,45,50])\n",
    "\n",
    "even_numbers=numbers[numbers%2==0]\n",
    "print(\"Even Numbers:\",even_numbers)\n",
    "\n",
    "mask=numbers>30\n",
    "print(\"Numbers greater than 30:\",numbers[mask])"
   ]
  },
  {
   "cell_type": "markdown",
   "metadata": {},
   "source": [
    "## Fancy Indexing vs np.where()"
   ]
  },
  {
   "cell_type": "code",
   "execution_count": 20,
   "metadata": {},
   "outputs": [
    {
     "name": "stdout",
     "output_type": "stream",
     "text": [
      "Fancy Indexing: [10 30 50]\n",
      "np.where() result: [45 50]\n"
     ]
    }
   ],
   "source": [
    "indices=[0,2,4]\n",
    "print(\"Fancy Indexing:\",numbers[indices])\n",
    "\n",
    "where_result=np.where(numbers>30)\n",
    "print(\"np.where() result:\",numbers[where_result])"
   ]
  },
  {
   "cell_type": "code",
   "execution_count": 25,
   "metadata": {},
   "outputs": [
    {
     "name": "stdout",
     "output_type": "stream",
     "text": [
      "Condition Array: [ 10  25  30  90 100]\n"
     ]
    }
   ],
   "source": [
    "condition_array=np.where(numbers>30,numbers*2,numbers)\n",
    "print(\"Condition Array:\",condition_array)"
   ]
  },
  {
   "cell_type": "markdown",
   "metadata": {},
   "source": [
    "## Adding and Removing Data"
   ]
  },
  {
   "cell_type": "code",
   "execution_count": 33,
   "metadata": {},
   "outputs": [
    {
     "name": "stdout",
     "output_type": "stream",
     "text": [
      "Combined Array: [1 2 3 4 5 6]\n",
      "Array after deletion: [1 2 4 5]\n"
     ]
    }
   ],
   "source": [
    "arr1=np.array([1,2,3])\n",
    "arr2=np.array([4,5,6])\n",
    "combined=np.concatenate((arr1,arr2))\n",
    "print(\"Combined Array:\",combined)\n",
    "\n",
    "arr = np.array([1, 2, 3, 4, 5])\n",
    "deleted=np.delete(arr,2)\n",
    "print(\"Array after deletion:\",deleted)"
   ]
  },
  {
   "cell_type": "code",
   "execution_count": 34,
   "metadata": {},
   "outputs": [
    {
     "name": "stdout",
     "output_type": "stream",
     "text": [
      "Array with new row:\n",
      " [[1 2 3]\n",
      " [4 5 6]\n",
      " [7 8 9]]\n",
      "Array with new column:\n",
      " [[ 1  2  3 10]\n",
      " [ 4  5  6 11]]\n"
     ]
    }
   ],
   "source": [
    "original=np.array([[1,2,3],[4,5,6]])\n",
    "new_row=np.array([7,8,9])\n",
    "\n",
    "with_new_row=np.vstack((original,new_row))\n",
    "print(\"Array with new row:\\n\",with_new_row)\n",
    "\n",
    "new_column=np.array([[10],[11]])\n",
    "with_new_column=np.hstack((original,new_column))\n",
    "print(\"Array with new column:\\n\",with_new_column)"
   ]
  },
  {
   "cell_type": "markdown",
   "metadata": {},
   "source": [
    "## Array Compatibility"
   ]
  },
  {
   "cell_type": "code",
   "execution_count": 28,
   "metadata": {},
   "outputs": [
    {
     "name": "stdout",
     "output_type": "stream",
     "text": [
      "Compatibility shapes: True\n"
     ]
    }
   ],
   "source": [
    "a=np.array([1,2,3])\n",
    "b=np.array([4,5,6])\n",
    "c=np.array([7,8,9])\n",
    "print(\"Compatibility shapes:\",a.shape==b.shape)"
   ]
  }
 ],
 "metadata": {
  "kernelspec": {
   "display_name": "Python 3",
   "language": "python",
   "name": "python3"
  },
  "language_info": {
   "codemirror_mode": {
    "name": "ipython",
    "version": 3
   },
   "file_extension": ".py",
   "mimetype": "text/x-python",
   "name": "python",
   "nbconvert_exporter": "python",
   "pygments_lexer": "ipython3",
   "version": "3.12.8"
  }
 },
 "nbformat": 4,
 "nbformat_minor": 2
}
